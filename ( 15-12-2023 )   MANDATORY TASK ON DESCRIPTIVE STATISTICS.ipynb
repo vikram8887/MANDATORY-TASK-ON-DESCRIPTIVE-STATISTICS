{
 "cells": [
  {
   "cell_type": "code",
   "execution_count": 2,
   "id": "ff2f9df1",
   "metadata": {},
   "outputs": [],
   "source": [
    "import numpy as np\n",
    "import pandas as pd"
   ]
  },
  {
   "cell_type": "code",
   "execution_count": 3,
   "id": "6453ae0f",
   "metadata": {},
   "outputs": [],
   "source": [
    " from numpy import genfromtxt"
   ]
  },
  {
   "cell_type": "markdown",
   "id": "1c826dca",
   "metadata": {},
   "source": [
    "# Measures of Central Tendency:\n"
   ]
  },
  {
   "cell_type": "markdown",
   "id": "2f41a2b8",
   "metadata": {},
   "source": [
    "###  1.   Calculate the mean sales for Product A and Product B. Compare the average monthly sales for the two products and discuss any observed trends.\n"
   ]
  },
  {
   "cell_type": "code",
   "execution_count": 4,
   "id": "47120e4f",
   "metadata": {},
   "outputs": [],
   "source": [
    "fpath = r'C:\\Users\\HP\\Downloads\\sample_data.csv'"
   ]
  },
  {
   "cell_type": "code",
   "execution_count": 5,
   "id": "df9d1508",
   "metadata": {},
   "outputs": [
    {
     "data": {
      "text/plain": [
       "array([[ 0., 25., 40.],\n",
       "       [ 1., 30., 35.],\n",
       "       [ 2., 28., 38.],\n",
       "       [ 3., 32., 41.],\n",
       "       [ 4., 26., 37.],\n",
       "       [ 5., 29., 36.],\n",
       "       [ 6., 27., 39.],\n",
       "       [ 7., 33., 42.],\n",
       "       [ 8., 31., 38.],\n",
       "       [ 9., 28., 37.],\n",
       "       [10., 30., 40.],\n",
       "       [11., 29., 36.]])"
      ]
     },
     "execution_count": 5,
     "metadata": {},
     "output_type": "execute_result"
    }
   ],
   "source": [
    "data= genfromtxt(fpath,delimiter=',',skip_header = True)\n",
    "\n",
    "data"
   ]
  },
  {
   "cell_type": "code",
   "execution_count": null,
   "id": "ad0fa22d",
   "metadata": {},
   "outputs": [],
   "source": []
  },
  {
   "cell_type": "code",
   "execution_count": 22,
   "id": "1eccb748",
   "metadata": {},
   "outputs": [
    {
     "name": "stdout",
     "output_type": "stream",
     "text": [
      "    product-A  product-B\n",
      "0          25         40\n",
      "1          30         35\n",
      "2          28         38\n",
      "3          32         41\n",
      "4          26         37\n",
      "5          29         36\n",
      "6          27         39\n",
      "7          33         42\n",
      "8          31         38\n",
      "9          28         37\n",
      "10         30         40\n",
      "11         29         36\n"
     ]
    }
   ],
   "source": [
    "Data = {'product-A': [25,30,28,32,26,29,27,33,31,28,30,29],'product-B': [40,35,38,41,37,36,39,42,38,37,40,36]}\n",
    "\n",
    "x = pd.DataFrame(Data)\n",
    "print(x)"
   ]
  },
  {
   "cell_type": "markdown",
   "id": "e320da5d",
   "metadata": {},
   "source": [
    "#### Compare the average monthly sales for the two products"
   ]
  },
  {
   "cell_type": "markdown",
   "id": "f3b68832",
   "metadata": {},
   "source": [
    "* when compared the average monthly sales of 'product-a' and 'product-b'  \n",
    "\n",
    "  'product-b' has higher average monthaly sales"
   ]
  },
  {
   "cell_type": "code",
   "execution_count": 10,
   "id": "72cac8d7",
   "metadata": {},
   "outputs": [
    {
     "data": {
      "text/plain": [
       "product-A    29.00\n",
       "product-B    38.25\n",
       "dtype: float64"
      ]
     },
     "execution_count": 10,
     "metadata": {},
     "output_type": "execute_result"
    }
   ],
   "source": [
    "x.mean()"
   ]
  },
  {
   "cell_type": "markdown",
   "id": "a1db6070",
   "metadata": {},
   "source": [
    "#### product-b' has higher average monthaly sales"
   ]
  },
  {
   "cell_type": "code",
   "execution_count": 17,
   "id": "13b08197",
   "metadata": {},
   "outputs": [
    {
     "data": {
      "text/plain": [
       "product-A    29.0\n",
       "product-B    38.0\n",
       "dtype: float64"
      ]
     },
     "execution_count": 17,
     "metadata": {},
     "output_type": "execute_result"
    }
   ],
   "source": [
    "x.median()"
   ]
  },
  {
   "cell_type": "markdown",
   "id": "06990d86",
   "metadata": {},
   "source": [
    "###  2.  Find the median sales for each product and discuss how it reflects the central tendency of the sales distribution.\n",
    "\n",
    "\n",
    "#### product-b has a higher median, \n",
    "* indiacting that the sales distribution tends to be higher on average"
   ]
  },
  {
   "cell_type": "code",
   "execution_count": 16,
   "id": "43e7a14e",
   "metadata": {},
   "outputs": [
    {
     "data": {
      "text/html": [
       "<div>\n",
       "<style scoped>\n",
       "    .dataframe tbody tr th:only-of-type {\n",
       "        vertical-align: middle;\n",
       "    }\n",
       "\n",
       "    .dataframe tbody tr th {\n",
       "        vertical-align: top;\n",
       "    }\n",
       "\n",
       "    .dataframe thead th {\n",
       "        text-align: right;\n",
       "    }\n",
       "</style>\n",
       "<table border=\"1\" class=\"dataframe\">\n",
       "  <thead>\n",
       "    <tr style=\"text-align: right;\">\n",
       "      <th></th>\n",
       "      <th>product-A</th>\n",
       "      <th>product-B</th>\n",
       "    </tr>\n",
       "  </thead>\n",
       "  <tbody>\n",
       "    <tr>\n",
       "      <th>0</th>\n",
       "      <td>28.0</td>\n",
       "      <td>36</td>\n",
       "    </tr>\n",
       "    <tr>\n",
       "      <th>1</th>\n",
       "      <td>29.0</td>\n",
       "      <td>37</td>\n",
       "    </tr>\n",
       "    <tr>\n",
       "      <th>2</th>\n",
       "      <td>30.0</td>\n",
       "      <td>38</td>\n",
       "    </tr>\n",
       "    <tr>\n",
       "      <th>3</th>\n",
       "      <td>NaN</td>\n",
       "      <td>40</td>\n",
       "    </tr>\n",
       "  </tbody>\n",
       "</table>\n",
       "</div>"
      ],
      "text/plain": [
       "   product-A  product-B\n",
       "0       28.0         36\n",
       "1       29.0         37\n",
       "2       30.0         38\n",
       "3        NaN         40"
      ]
     },
     "execution_count": 16,
     "metadata": {},
     "output_type": "execute_result"
    }
   ],
   "source": [
    "x.mode()"
   ]
  },
  {
   "cell_type": "markdown",
   "id": "d58b167e",
   "metadata": {},
   "source": [
    " ###  3.  Identify the mode of the sales data for both Product A and Product B. Discuss the significance of the mode in the context of these products.\n"
   ]
  },
  {
   "cell_type": "code",
   "execution_count": 18,
   "id": "d67845b2",
   "metadata": {},
   "outputs": [
    {
     "data": {
      "text/html": [
       "<div>\n",
       "<style scoped>\n",
       "    .dataframe tbody tr th:only-of-type {\n",
       "        vertical-align: middle;\n",
       "    }\n",
       "\n",
       "    .dataframe tbody tr th {\n",
       "        vertical-align: top;\n",
       "    }\n",
       "\n",
       "    .dataframe thead th {\n",
       "        text-align: right;\n",
       "    }\n",
       "</style>\n",
       "<table border=\"1\" class=\"dataframe\">\n",
       "  <thead>\n",
       "    <tr style=\"text-align: right;\">\n",
       "      <th></th>\n",
       "      <th>product-A</th>\n",
       "      <th>product-B</th>\n",
       "    </tr>\n",
       "  </thead>\n",
       "  <tbody>\n",
       "    <tr>\n",
       "      <th>0</th>\n",
       "      <td>28.0</td>\n",
       "      <td>36</td>\n",
       "    </tr>\n",
       "    <tr>\n",
       "      <th>1</th>\n",
       "      <td>29.0</td>\n",
       "      <td>37</td>\n",
       "    </tr>\n",
       "    <tr>\n",
       "      <th>2</th>\n",
       "      <td>30.0</td>\n",
       "      <td>38</td>\n",
       "    </tr>\n",
       "    <tr>\n",
       "      <th>3</th>\n",
       "      <td>NaN</td>\n",
       "      <td>40</td>\n",
       "    </tr>\n",
       "  </tbody>\n",
       "</table>\n",
       "</div>"
      ],
      "text/plain": [
       "   product-A  product-B\n",
       "0       28.0         36\n",
       "1       29.0         37\n",
       "2       30.0         38\n",
       "3        NaN         40"
      ]
     },
     "execution_count": 18,
     "metadata": {},
     "output_type": "execute_result"
    }
   ],
   "source": [
    "x.mode()"
   ]
  },
  {
   "cell_type": "markdown",
   "id": "5902d1ad",
   "metadata": {},
   "source": [
    "##### Discuss the significance of the mode in the context of these products.\n",
    "\n",
    "* 'product-A' and 'product-B' has multiple modes , indicating that there are multiple values occuring with higher frequency"
   ]
  },
  {
   "cell_type": "markdown",
   "id": "567a25d0",
   "metadata": {},
   "source": [
    "### 4.  Calculate the weighted mean of the sales data, assuming each month has an equal weight. Discuss any implications of using weighted mean in this context.\n"
   ]
  },
  {
   "cell_type": "code",
   "execution_count": 24,
   "id": "feff854d",
   "metadata": {},
   "outputs": [
    {
     "name": "stdout",
     "output_type": "stream",
     "text": [
      "28.999999999999996\n",
      "38.25\n"
     ]
    }
   ],
   "source": [
    "ab = (x['product-A'] * (1 / len(x))).sum()\n",
    "ac = (x['product-B'] * (1 / len(x))).sum()\n",
    "\n",
    "print(ab)\n",
    "print(ac)"
   ]
  },
  {
   "cell_type": "markdown",
   "id": "b72a1b74",
   "metadata": {},
   "source": [
    "* Discuss any implications of using weighted mean in this context.¶"
   ]
  },
  {
   "cell_type": "markdown",
   "id": "029cc2e7",
   "metadata": {},
   "source": [
    "in this context , the weighted mean provides a simple average that does not give more importance to certain months."
   ]
  },
  {
   "cell_type": "code",
   "execution_count": null,
   "id": "646844be",
   "metadata": {},
   "outputs": [],
   "source": []
  },
  {
   "cell_type": "code",
   "execution_count": null,
   "id": "1346db0e",
   "metadata": {},
   "outputs": [],
   "source": []
  },
  {
   "cell_type": "markdown",
   "id": "7c640a86",
   "metadata": {},
   "source": [
    "# Measures of Dispersion:\n"
   ]
  },
  {
   "cell_type": "markdown",
   "id": "f6e35bc1",
   "metadata": {},
   "source": [
    "### 1.  Compute the range of monthly sales for both Product A and Product B. Discuss how the range provides insights into the variability of sales.\n"
   ]
  },
  {
   "cell_type": "code",
   "execution_count": 25,
   "id": "d91ea379",
   "metadata": {},
   "outputs": [
    {
     "name": "stdout",
     "output_type": "stream",
     "text": [
      "8\n",
      "7\n"
     ]
    }
   ],
   "source": [
    "RA = x['product-A'].max() - x['product-A'].min()\n",
    "RB = x['product-B'].max() - x['product-B'].min()\n",
    "\n",
    "print(RA)\n",
    "print(RB)"
   ]
  },
  {
   "cell_type": "markdown",
   "id": "e03b4603",
   "metadata": {},
   "source": [
    " * Discuss how the range provides insights into the variability of sales.¶\n",
    "\n",
    "A higher range suggests greater variability in sales from month to month.\n",
    "\n",
    "A lower range indicates that sales are relatively consistent or stable."
   ]
  },
  {
   "cell_type": "code",
   "execution_count": null,
   "id": "2686fc68",
   "metadata": {},
   "outputs": [],
   "source": []
  },
  {
   "cell_type": "code",
   "execution_count": null,
   "id": "2d03223e",
   "metadata": {},
   "outputs": [],
   "source": []
  },
  {
   "cell_type": "markdown",
   "id": "4311b91d",
   "metadata": {},
   "source": [
    "###  2.  Calculate the variance of the sales data for both products. Discuss what the variance reveals about the spread of sales for each product.\n"
   ]
  },
  {
   "cell_type": "code",
   "execution_count": 26,
   "id": "3d91cc64",
   "metadata": {},
   "outputs": [
    {
     "name": "stdout",
     "output_type": "stream",
     "text": [
      "5.636363636363637\n",
      "4.75\n"
     ]
    }
   ],
   "source": [
    "VA = x['product-A'].var()\n",
    "VB = x['product-B'].var()\n",
    "\n",
    "print(VA)\n",
    "print(VB)"
   ]
  },
  {
   "cell_type": "markdown",
   "id": "4f36ebe2",
   "metadata": {},
   "source": [
    "##### Discuss what the variance reveals about the spread of sales for each product."
   ]
  },
  {
   "cell_type": "markdown",
   "id": "16383aee",
   "metadata": {},
   "source": [
    "A higher variance indicates that the sales data points for that product are more spread out from the mean, suggesting greater variability or dispersion.\n",
    "\n",
    "A lower variance suggests that the sales data points are closer to the mean, indicating less variability or dispersion."
   ]
  },
  {
   "cell_type": "markdown",
   "id": "67562b50",
   "metadata": {},
   "source": [
    "###  3.  Determine the standard deviation of the sales for Product A and Product B. Discuss the significance of standard deviation in understanding the variability in sales.\n"
   ]
  },
  {
   "cell_type": "code",
   "execution_count": 28,
   "id": "96d6ddcd",
   "metadata": {},
   "outputs": [
    {
     "name": "stdout",
     "output_type": "stream",
     "text": [
      "2.3741027013091993\n",
      "2.179449471770337\n"
     ]
    }
   ],
   "source": [
    "stdA = x['product-A'].std()\n",
    "stdB = x['product-B'].std()\n",
    "\n",
    "print(stdA)\n",
    "print(stdB)"
   ]
  },
  {
   "cell_type": "markdown",
   "id": "a7e72d7f",
   "metadata": {},
   "source": [
    "##### Discuss the significance of standard deviation in understanding the variability in sales.¶\n",
    "\n",
    "* A higher standard deviation indicates greater variability in monthly sales for a product.\n",
    "\n",
    "* A lower standard deviation suggests that the monthly sales values are more tightly clustered around the mean.\n",
    "\n",
    "* Understanding standard deviation helps in assessing the risk and volatility associated with sales. Higher standard deviations may imply a higher level of uncertainty or risk in predicting future sales."
   ]
  },
  {
   "cell_type": "code",
   "execution_count": null,
   "id": "75f6776a",
   "metadata": {},
   "outputs": [],
   "source": []
  },
  {
   "cell_type": "code",
   "execution_count": null,
   "id": "ec1efad3",
   "metadata": {},
   "outputs": [],
   "source": []
  },
  {
   "cell_type": "markdown",
   "id": "17541392",
   "metadata": {},
   "source": [
    "# Relative Measures of Dispersion:\n"
   ]
  },
  {
   "cell_type": "markdown",
   "id": "d9aec61b",
   "metadata": {},
   "source": [
    "###  1.  Calculate the coefficient of variation for the sales data of Product A. Discuss how this relative measure of dispersion helps in comparing the variability of products with different average sales."
   ]
  },
  {
   "cell_type": "code",
   "execution_count": 33,
   "id": "cfd5f6dd",
   "metadata": {},
   "outputs": [
    {
     "name": "stdout",
     "output_type": "stream",
     "text": [
      "8.186561038997239\n",
      "5.697907115739443\n"
     ]
    }
   ],
   "source": [
    "cvA = (stdA / meanA) * 100\n",
    "cvB = (stdB / meanB) * 100\n",
    "\n",
    "print(cvA)\n",
    "print(cvB)\n"
   ]
  },
  {
   "cell_type": "markdown",
   "id": "762cdb81",
   "metadata": {},
   "source": [
    "##### Discussing how the coefficient of variation helps in comparing the variability of products with different average sales:\n",
    "\n",
    "* The coefficient of variation provides a standardized measure of dispersion that is independent of the scale of the data.\n",
    "\n",
    "* By expressing the standard deviation as a percentage of the mean, the coefficient of variation allows for a more meaningful comparison of variability across products with different average sales.\n",
    "\n",
    "* A higher coefficient of variation suggests a relatively higher level of variability relative to the mean, regardless of the scale of the data."
   ]
  },
  {
   "cell_type": "code",
   "execution_count": null,
   "id": "1e7e9e43",
   "metadata": {},
   "outputs": [],
   "source": []
  },
  {
   "cell_type": "markdown",
   "id": "99fc7877",
   "metadata": {},
   "source": [
    "###  2.  Compute the relative range for Product B. Discuss how the relative range accounts for the scale of the sales data.\n"
   ]
  },
  {
   "cell_type": "code",
   "execution_count": 35,
   "id": "a06dda15",
   "metadata": {},
   "outputs": [
    {
     "name": "stdout",
     "output_type": "stream",
     "text": [
      "18.30065359477124\n"
     ]
    }
   ],
   "source": [
    "meanB = x['product-B'].mean()\n",
    "rangeB =x['product-B'].max() - x['product-B'].min()\n",
    "abB = (rangeB / meanB) * 100\n",
    "\n",
    "print(abB)"
   ]
  },
  {
   "cell_type": "markdown",
   "id": "47a51f0e",
   "metadata": {},
   "source": [
    "##### Discussing how the relative range accounts for the scale of the sales data:\n",
    "\n",
    "* The relative range expresses the range as a percentage of the mean, providing a standardized measure of dispersion.\n",
    "\n",
    "* This percentage-based measure is useful for comparing the spread of data relative to the average, irrespective of the scale of the data.\n",
    "\n",
    "* It allows for a more meaningful comparison of variability across datasets with different scales."
   ]
  },
  {
   "cell_type": "code",
   "execution_count": null,
   "id": "49fcf522",
   "metadata": {},
   "outputs": [],
   "source": []
  },
  {
   "cell_type": "code",
   "execution_count": null,
   "id": "2f9387d0",
   "metadata": {},
   "outputs": [],
   "source": []
  },
  {
   "cell_type": "markdown",
   "id": "c58507ed",
   "metadata": {},
   "source": [
    "### 3.   Determine the relative standard deviation for Product A. Interpret the result and discuss its implications for understanding the variability relative to the mean."
   ]
  },
  {
   "cell_type": "code",
   "execution_count": null,
   "id": "2920edb3",
   "metadata": {},
   "outputs": [],
   "source": []
  },
  {
   "cell_type": "code",
   "execution_count": null,
   "id": "e1574592",
   "metadata": {},
   "outputs": [],
   "source": []
  },
  {
   "cell_type": "markdown",
   "id": "ae273cf0",
   "metadata": {},
   "source": [
    "##### Understanding the relative standard deviation:\n",
    "\n",
    "* The relative standard deviation provides a percentage-based measure of dispersion relative to the mean.\n",
    "\n",
    "* It is particularly useful for comparing the variability of datasets with different average values.\n",
    "\n",
    "* A higher relative standard deviation indicates a higher level of variability relative to the mean, regardless of the scale of the data."
   ]
  },
  {
   "cell_type": "code",
   "execution_count": null,
   "id": "f5231cce",
   "metadata": {},
   "outputs": [],
   "source": []
  },
  {
   "cell_type": "code",
   "execution_count": null,
   "id": "ad05f0c4",
   "metadata": {},
   "outputs": [],
   "source": []
  },
  {
   "cell_type": "code",
   "execution_count": null,
   "id": "1e2ddd76",
   "metadata": {},
   "outputs": [],
   "source": []
  },
  {
   "cell_type": "code",
   "execution_count": null,
   "id": "5a94ff18",
   "metadata": {},
   "outputs": [],
   "source": []
  },
  {
   "cell_type": "code",
   "execution_count": null,
   "id": "f273ffb1",
   "metadata": {},
   "outputs": [],
   "source": []
  },
  {
   "cell_type": "code",
   "execution_count": null,
   "id": "f049c627",
   "metadata": {},
   "outputs": [],
   "source": []
  },
  {
   "cell_type": "code",
   "execution_count": null,
   "id": "a0bf9a2f",
   "metadata": {},
   "outputs": [],
   "source": []
  },
  {
   "cell_type": "code",
   "execution_count": null,
   "id": "594727ae",
   "metadata": {},
   "outputs": [],
   "source": []
  }
 ],
 "metadata": {
  "kernelspec": {
   "display_name": "Python 3 (ipykernel)",
   "language": "python",
   "name": "python3"
  },
  "language_info": {
   "codemirror_mode": {
    "name": "ipython",
    "version": 3
   },
   "file_extension": ".py",
   "mimetype": "text/x-python",
   "name": "python",
   "nbconvert_exporter": "python",
   "pygments_lexer": "ipython3",
   "version": "3.11.5"
  }
 },
 "nbformat": 4,
 "nbformat_minor": 5
}
